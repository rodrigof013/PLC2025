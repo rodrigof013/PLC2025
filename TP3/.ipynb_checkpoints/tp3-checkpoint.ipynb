{
 "cells": [
  {
   "cell_type": "markdown",
   "id": "1a0cf978-dfb7-423d-a121-db9428ba065f",
   "metadata": {},
   "source": [
    "# **Trabalho Prático 3 - Analisador Léxico**\n",
    "\n",
    "### Objetivo\n",
    "\n",
    "O objetivo deste trabalho prático é construir um ***analisador léxico*** para uma liguagem de query com a qual se podem escrever frases do género:"
   ]
  },
  {
   "cell_type": "code",
   "execution_count": 6,
   "id": "a1dd139d-e8db-44c4-90f8-b70bc90ad9f7",
   "metadata": {
    "vscode": {
     "languageId": "sql"
    }
   },
   "outputs": [
    {
     "ename": "SyntaxError",
     "evalue": "invalid syntax (3453504759.py, line 2)",
     "output_type": "error",
     "traceback": [
      "  \u001b[36mCell\u001b[39m\u001b[36m \u001b[39m\u001b[32mIn[6]\u001b[39m\u001b[32m, line 2\u001b[39m\n\u001b[31m    \u001b[39m\u001b[31mselect ?nome ?desc where {\u001b[39m\n           ^\n\u001b[31mSyntaxError\u001b[39m\u001b[31m:\u001b[39m invalid syntax\n"
     ]
    }
   ],
   "source": [
    "# DBPedia: obras de Chuck Berry\n",
    "select ?nome ?desc where {\n",
    "    ?s a dbo:MusicalArtist.\n",
    "    ?s foaf:name \"Chuck Berry\"@en .\n",
    "    ?w dbo:artist ?s.\n",
    "    ?w foaf:name ?nome.\n",
    "    ?w dbo:abstract ?desc\n",
    "} LIMIT 1000"
   ]
  },
  {
   "cell_type": "code",
   "execution_count": 4,
   "id": "42e0f38d-6c55-404c-af44-e9521b115141",
   "metadata": {},
   "outputs": [],
   "source": [
    "import re\n",
    "import sys\n",
    "\n",
    "def tokens_analyser(query):\n",
    "    #tokens a reconhecer\n",
    "    tokens = {\n",
    "        \"sel\": r\"select\",\n",
    "        \"whr\": r\"where\",\n",
    "        \"LIM\": r\"LIMIT\",\n",
    "        \"VAR\": r'\\?\\w+',\n",
    "        \"PA\": r'\\{',\n",
    "        \"PF\": r'\\}',\n",
    "        \"a\":  r'a',\n",
    "        \"id\": r'(\\w*):(\\w+)',\n",
    "        \"string\": r'\"[^\"]*\"',\n",
    "        \"idioma\": r'@\\w+',\n",
    "        \"INT\": r'\\d+',\n",
    "        \"PONTO\": r'\\.',\n",
    "        \"SKIP\":r'[ \\t]',\n",
    "        \"NEWLINE\": r'\\n',\n",
    "        \"COMENTÁRIO\": r'#.*',\n",
    "        \"ERRO\": r'.'\n",
    "    }\n",
    "    reconhecidos = []\n",
    "    linha = 1\n",
    "    apanhar_tokens = '|'.join(f'(?P<{i}>{e})' for i,e in tokens.items())\n",
    "    mo = re.finditer(apanhar_tokens, query)\n",
    "    for m in mo:\n",
    "        dic = m.groupdict()\n",
    "        for identificador, valor in dic.items():\n",
    "            if valor is not None:\n",
    "                if identificador == \"NEWLINE\":\n",
    "                    linha += 1\n",
    "                    reconhecidos.append((identificador, valor, linha, m.span()))\n",
    "                elif not dic[\"SKIP\"]: \n",
    "                    reconhecidos.append((identificador, valor, linha, m.span()))\n",
    "    return reconhecidos\n",
    "        \n",
    "\n",
    "        "
   ]
  },
  {
   "cell_type": "markdown",
   "id": "310bd2be-907b-4fe7-b3b5-b9014c153252",
   "metadata": {},
   "source": [
    "## **Teste**"
   ]
  },
  {
   "cell_type": "code",
   "execution_count": 5,
   "id": "7432026d-92a5-4ba5-ab34-87f76eb4b2ae",
   "metadata": {},
   "outputs": [
    {
     "name": "stdout",
     "output_type": "stream",
     "text": [
      "('COMENTÁRIO', '# DBPedia: obras de Chuck Berry', 1, (0, 31))\n",
      "('NEWLINE', '\\n', 2, (31, 32))\n",
      "('sel', 'select', 2, (32, 38))\n",
      "('VAR', '?nome', 2, (39, 44))\n",
      "('VAR', '?desc', 2, (45, 50))\n",
      "('whr', 'where', 2, (51, 56))\n",
      "('PA', '{', 2, (57, 58))\n",
      "('NEWLINE', '\\n', 3, (58, 59))\n",
      "('VAR', '?s', 3, (59, 61))\n",
      "('a', 'a', 3, (62, 63))\n",
      "('id', 'dbo:MusicalArtist', 3, (64, 81))\n",
      "('PONTO', '.', 3, (81, 82))\n",
      "('NEWLINE', '\\n', 4, (82, 83))\n",
      "('VAR', '?s', 4, (83, 85))\n",
      "('id', 'foaf:name', 4, (86, 95))\n",
      "('string', '\"Chuck Berry\"', 4, (96, 109))\n",
      "('idioma', '@en', 4, (109, 112))\n",
      "('PONTO', '.', 4, (113, 114))\n",
      "('NEWLINE', '\\n', 5, (114, 115))\n",
      "('VAR', '?w', 5, (115, 117))\n",
      "('id', 'dbo:artist', 5, (118, 128))\n",
      "('VAR', '?s', 5, (129, 131))\n",
      "('PONTO', '.', 5, (131, 132))\n",
      "('NEWLINE', '\\n', 6, (132, 133))\n",
      "('VAR', '?w', 6, (133, 135))\n",
      "('id', 'foaf:name', 6, (136, 145))\n",
      "('VAR', '?nome', 6, (146, 151))\n",
      "('PONTO', '.', 6, (151, 152))\n",
      "('NEWLINE', '\\n', 7, (152, 153))\n",
      "('VAR', '?w', 7, (153, 155))\n",
      "('id', 'dbo:abstract', 7, (156, 168))\n",
      "('VAR', '?desc', 7, (169, 174))\n",
      "('NEWLINE', '\\n', 8, (174, 175))\n",
      "('PF', '}', 8, (175, 176))\n",
      "('LIM', 'LIMIT', 8, (177, 182))\n",
      "('INT', '1000', 8, (183, 187))\n"
     ]
    }
   ],
   "source": [
    "query = \"\"\"# DBPedia: obras de Chuck Berry\n",
    "select ?nome ?desc where {\n",
    "?s a dbo:MusicalArtist.\n",
    "?s foaf:name \"Chuck Berry\"@en .\n",
    "?w dbo:artist ?s.\n",
    "?w foaf:name ?nome.\n",
    "?w dbo:abstract ?desc\n",
    "} LIMIT 1000\"\"\"\n",
    "\n",
    "for t in tokens_analyser(query):\n",
    "    print(t)"
   ]
  }
 ],
 "metadata": {
  "kernelspec": {
   "display_name": "Python 3 (ipykernel)",
   "language": "python",
   "name": "python3"
  },
  "language_info": {
   "codemirror_mode": {
    "name": "ipython",
    "version": 3
   },
   "file_extension": ".py",
   "mimetype": "text/x-python",
   "name": "python",
   "nbconvert_exporter": "python",
   "pygments_lexer": "ipython3",
   "version": "3.13.7"
  }
 },
 "nbformat": 4,
 "nbformat_minor": 5
}
