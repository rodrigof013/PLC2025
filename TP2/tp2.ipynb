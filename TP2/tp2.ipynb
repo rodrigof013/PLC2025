{
 "cells": [
  {
   "cell_type": "code",
   "execution_count": 1,
   "metadata": {},
   "outputs": [
    {
     "name": "stdout",
     "output_type": "stream",
     "text": [
      "<h1>Título</h1>\n",
      "Texto com <b>negrito</b> e <i>itálico</i>.\n",
      "<ol>\n",
      "<li>Primeiro</li>\n",
      "<li>Segundo</li>\n",
      "</ol>\n",
      "Como pode ser consultado em <a href=\"http://www.uc.pt\">UC</a>\n",
      "E também <img src=\"http://www.coelho.com\" alt=\"um coelho\"/>\n"
     ]
    }
   ],
   "source": [
    "import re\n",
    "\n",
    "texto = \"\"\"# Título\n",
    "Texto com **negrito** e *itálico*.\n",
    "1. Primeiro\n",
    "2. Segundo\n",
    "Como pode ser consultado em [UC](http://www.uc.pt)\n",
    "E também ![um coelho](http://www.coelho.com)\"\"\"\n",
    "\n",
    "def conversor(texto):\n",
    "    resultado = []\n",
    "    lista_items = []\n",
    "    dentro_lista = False\n",
    "\n",
    "    def converter_inline(linha):\n",
    "        linha = re.sub(r'!\\[(.+?)\\]\\((.+?)\\)', r'<img src=\"\\2\" alt=\"\\1\"/>', linha, count = 0, flags = 0)\n",
    "        linha = re.sub(r'\\[(.+?)\\]\\((.+?)\\)', r'<a href=\"\\2\">\\1</a>', linha, count = 0, flags = 0)\n",
    "        linha = re.sub(r'\\*\\*(.+?)\\*\\*', r'<b>\\1</b>', linha, count = 0, flags = 0)\n",
    "        linha = re.sub(r'\\*(.+?)\\*', r'<i>\\1</i>', linha)\n",
    "        return linha\n",
    "        \n",
    "    for linha in texto.split(\"\\n\"):\n",
    "        #ver se a linha começa com #\n",
    "        m = re.match(r\"^(#+) (.*)\", linha, flags = 0)\n",
    "        if m:\n",
    "            n = len(m.group(1)) #ver o nível (quantidade de #)\n",
    "            titulo = m.group(2) \n",
    "            resultado.append(f\"<h{n}>{titulo}</h{n}>\")\n",
    "        #ver se a linha é do um item de lista\n",
    "        elif re.fullmatch(r\"^(\\d\\.) (.*)\", linha, flags = 0):\n",
    "            t = re.fullmatch(r\"^(\\d\\.) (.*)\", linha, flags = 0)\n",
    "            nome_item = t.group(2)\n",
    "            if not dentro_lista:\n",
    "                dentro_lista = True\n",
    "            lista_items.append(f\"<li>{nome_item}</li>\")\n",
    "        else:\n",
    "            if dentro_lista:\n",
    "                resultado.append(\"<ol>\\n\" + \"\\n\".join(lista_items) + \"\\n</ol>\")\n",
    "            dentro_lista = False\n",
    "            resultado.append(converter_inline(linha))\n",
    "\n",
    "\n",
    "    html_final = \"\\n\".join(resultado)\n",
    "    return html_final\n",
    "    \n",
    "html = conversor(texto)\n",
    "print(html)\n"
   ]
  }
 ],
 "metadata": {
  "kernelspec": {
   "display_name": "base",
   "language": "python",
   "name": "python3"
  },
  "language_info": {
   "codemirror_mode": {
    "name": "ipython",
    "version": 3
   },
   "file_extension": ".py",
   "mimetype": "text/x-python",
   "name": "python",
   "nbconvert_exporter": "python",
   "pygments_lexer": "ipython3",
   "version": "3.13.5"
  }
 },
 "nbformat": 4,
 "nbformat_minor": 2
}
